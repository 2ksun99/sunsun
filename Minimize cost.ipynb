{
 "cells": [
  {
   "cell_type": "code",
   "execution_count": 14,
   "metadata": {},
   "outputs": [],
   "source": [
    "import tensorflow as tf\n",
    "tf.enable_eager_execution()\n",
    "import numpy as np"
   ]
  },
  {
   "cell_type": "code",
   "execution_count": 15,
   "metadata": {},
   "outputs": [],
   "source": [
    "# X와 Y의 데이터 즉 입력과 출력을 같게한다.\n",
    "x = np.array([1, 2, 3])   \n",
    "y = np.array([1, 2, 3])"
   ]
  },
  {
   "cell_type": "code",
   "execution_count": 20,
   "metadata": {},
   "outputs": [],
   "source": [
    "def cost_func(w, x, y):  # X, Y에 대해서 W 값이 주어졌을때 cost를 계산하는 함수다.\n",
    "    hypothesis = x * y # 가설 함수\n",
    "    return tf.reduce_mean(tf.square(hypothesis - y)) # tensorflow를 이용한 cost 함수 \n",
    "w_values = np.linspace(-3, 5, num = 15) # np.linspace 함수를 이용하여 -3에서 5 사이를 15개의 구간으로 나눠서 W_values인 리스트로 받는다. \n",
    "cost_values = []"
   ]
  },
  {
   "cell_type": "code",
   "execution_count": 21,
   "metadata": {
    "scrolled": false
   },
   "outputs": [
    {
     "name": "stdout",
     "output_type": "stream",
     "text": [
      "-3.000 |   13.00000\n",
      "-2.429 |   13.00000\n",
      "-1.857 |   13.00000\n",
      "-1.286 |   13.00000\n",
      "-0.714 |   13.00000\n",
      "-0.143 |   13.00000\n",
      " 0.429 |   13.00000\n",
      " 1.000 |   13.00000\n",
      " 1.571 |   13.00000\n",
      " 2.143 |   13.00000\n",
      " 2.714 |   13.00000\n",
      " 3.286 |   13.00000\n",
      " 3.857 |   13.00000\n",
      " 4.429 |   13.00000\n",
      " 5.000 |   13.00000\n"
     ]
    }
   ],
   "source": [
    "for feed_w in w_values:\n",
    "    curr_cost = cost_func(feed_w, x, y)   \n",
    "    cost_values.append(curr_cost)\n",
    "    print(\"{:6.3f} | {:10.5f}\".format(feed_w , curr_cost))\n",
    "    # 받은 리스트 값을 하나하나 뽑아서 feed_W 값으로 사용해, cost가 feed_W에 따라서 어떻게 변하는지 기록한 뒤 출력한다."
   ]
  },
  {
   "cell_type": "code",
   "execution_count": 24,
   "metadata": {
    "scrolled": true
   },
   "outputs": [
    {
     "name": "stdout",
     "output_type": "stream",
     "text": [
      "    0|11716.3086| 48.767971\n",
      "   10| 4504.9126| 30.619968\n",
      "   20| 1732.1364| 19.366755\n",
      "   30|  666.0052| 12.388859\n",
      "   40|  256.0785|  8.062004\n",
      "   50|   98.4620|  5.379007\n",
      "   60|   37.8586|  3.715335\n",
      "   70|   14.5566|  2.683725\n",
      "   80|    5.5970|  2.044044\n",
      "   90|    2.1520|  1.647391\n",
      "  100|    0.8275|  1.401434\n",
      "  110|    0.3182|  1.248922\n",
      "  120|    0.1223|  1.154351\n",
      "  130|    0.0470|  1.095710\n",
      "  140|    0.0181|  1.059348\n",
      "  150|    0.0070|  1.036801\n",
      "  160|    0.0027|  1.022819\n",
      "  170|    0.0010|  1.014150\n",
      "  180|    0.0004|  1.008774\n",
      "  190|    0.0002|  1.005441\n",
      "  200|    0.0001|  1.003374\n",
      "  210|    0.0000|  1.002092\n",
      "  220|    0.0000|  1.001297\n",
      "  230|    0.0000|  1.000804\n",
      "  240|    0.0000|  1.000499\n",
      "  250|    0.0000|  1.000309\n",
      "  260|    0.0000|  1.000192\n",
      "  270|    0.0000|  1.000119\n",
      "  280|    0.0000|  1.000074\n",
      "  290|    0.0000|  1.000046\n"
     ]
    }
   ],
   "source": [
    "# Gradient descent\n",
    "tf.set_random_seed(0) # 다음에 이 코드를 실행 시켰을때도\n",
    "                      # 동일하게 진행할 수 있도록 random_seed를 초기화 시킨다. \n",
    "\n",
    "x_data = [1.,2.,3.,4.]       \n",
    "y_data = [1.,3.,5.,7.]\n",
    "w=tf.Variable(tf.random_normal([1], -100., 100.)) # 정규분포를 따르는 random 1개짜리로 변수를 만들고, w에 할당하여 정의한다. \n",
    "for step in range(300): # for문을 이용하여 Gradient descent를 300번 진행한다. \n",
    "    hypothesis = w * x  # 가설 함수    \n",
    "    cost = tf.reduce_mean(tf.square(hypothesis - y)) # cost 함수\n",
    "    alpha = 0.01\n",
    "    gradient = tf.reduce_mean(tf.multiply(tf.multiply(w, x) - y, x)) # cost를 미분한 것으로 gradient이며, 기울기를 나타낸다. \n",
    "    descent = w - tf.multiply(alpha, gradient) # gradient를 alpha 값에 곱한 뒤 w에서 빼준다. \n",
    "    w.assign(descent) # descent는 새로운 w 값이며, 이것을 w에 할당하며 업데이트한다. \n",
    "    \n",
    "    if step % 10 == 0: # 10번에 한번씩 cost 값과 w 값을 출력해준다. \n",
    "        print('{:5}|{:10.4f}|{:10.6f}'.format(step, cost.numpy(), w.numpy()[0]))"
   ]
  },
  {
   "cell_type": "code",
   "execution_count": 25,
   "metadata": {},
   "outputs": [
    {
     "name": "stdout",
     "output_type": "stream",
     "text": [
      "    0|   74.6667|  4.813334\n",
      "   10|   28.7093|  3.364572\n",
      "   20|   11.0387|  2.466224\n",
      "   30|    4.2444|  1.909177\n",
      "   40|    1.6320|  1.563762\n",
      "   50|    0.6275|  1.349578\n",
      "   60|    0.2413|  1.216766\n",
      "   70|    0.0928|  1.134412\n",
      "   80|    0.0357|  1.083346\n",
      "   90|    0.0137|  1.051681\n",
      "  100|    0.0053|  1.032047\n",
      "  110|    0.0020|  1.019871\n",
      "  120|    0.0008|  1.012322\n",
      "  130|    0.0003|  1.007641\n",
      "  140|    0.0001|  1.004738\n",
      "  150|    0.0000|  1.002938\n",
      "  160|    0.0000|  1.001822\n",
      "  170|    0.0000|  1.001130\n",
      "  180|    0.0000|  1.000700\n",
      "  190|    0.0000|  1.000434\n",
      "  200|    0.0000|  1.000269\n",
      "  210|    0.0000|  1.000167\n",
      "  220|    0.0000|  1.000103\n",
      "  230|    0.0000|  1.000064\n",
      "  240|    0.0000|  1.000040\n",
      "  250|    0.0000|  1.000025\n",
      "  260|    0.0000|  1.000015\n",
      "  270|    0.0000|  1.000009\n",
      "  280|    0.0000|  1.000006\n",
      "  290|    0.0000|  1.000004\n"
     ]
    }
   ],
   "source": [
    "# Output when W = 5, W에 특정한 값을 줘도 결과는 같다. \n",
    "tf.set_random_seed(0)  \n",
    "\n",
    "x_data = [1.,2.,3.,4.]       \n",
    "y_data = [1.,3.,5.,7.]\n",
    "w = tf.Variable([5.0]) \n",
    "for step in range(300):  \n",
    "    hypothesis = w * x  \n",
    "    cost = tf.reduce_mean(tf.square(hypothesis - y)) \n",
    "    alpha = 0.01\n",
    "    gradient = tf.reduce_mean(tf.multiply(tf.multiply(w, x) - y, x)) \n",
    "    descent = w - tf.multiply(alpha, gradient)  \n",
    "    w.assign(descent)  \n",
    "    \n",
    "    if step % 10 == 0:  \n",
    "        print('{:5}|{:10.4f}|{:10.6f}'.format(step, cost.numpy(), w.numpy()[0]))"
   ]
  },
  {
   "cell_type": "code",
   "execution_count": null,
   "metadata": {},
   "outputs": [],
   "source": []
  },
  {
   "cell_type": "code",
   "execution_count": null,
   "metadata": {},
   "outputs": [],
   "source": []
  }
 ],
 "metadata": {
  "kernelspec": {
   "display_name": "Python 3",
   "language": "python",
   "name": "python3"
  },
  "language_info": {
   "codemirror_mode": {
    "name": "ipython",
    "version": 3
   },
   "file_extension": ".py",
   "mimetype": "text/x-python",
   "name": "python",
   "nbconvert_exporter": "python",
   "pygments_lexer": "ipython3",
   "version": "3.7.1"
  }
 },
 "nbformat": 4,
 "nbformat_minor": 2
}
