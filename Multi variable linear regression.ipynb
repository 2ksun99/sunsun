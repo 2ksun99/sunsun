{
 "cells": [
  {
   "cell_type": "code",
   "execution_count": 2,
   "metadata": {},
   "outputs": [],
   "source": [
    "import tensorflow as tf\n",
    "tf.enable_eager_execution()\n",
    "import numpy as np"
   ]
  },
  {
   "cell_type": "code",
   "execution_count": 3,
   "metadata": {},
   "outputs": [],
   "source": [
    "x1 = [ 73.,  93.,  89.,  96.,  73.]  \n",
    "x2 = [ 80.,  88.,  91.,  98.,  66.]\n",
    "x3 = [ 75.,  93.,  90., 100.,  70.] # 변수가 3개인 학습 데이터와\n",
    "y = [152., 185., 180., 196., 142.] # 이 데이터들의 예측치인 데이터들을 y로 지정한다.\n",
    "\n",
    "# 변수가 3개이므로 weight도 3개가 필요하다. 초기값은 모두 1로 준다.\n",
    "w1 = tf.Variable(tf.random_normal([1]))    \n",
    "w2 = tf.Variable(tf.random_normal([1])) \n",
    "w3 = tf.Variable(tf.random_normal([1]))\n",
    "b = tf.Variable(tf.random_normal([1]))"
   ]
  },
  {
   "cell_type": "code",
   "execution_count": 5,
   "metadata": {},
   "outputs": [
    {
     "name": "stdout",
     "output_type": "stream",
     "text": [
      "    0 |    5495.8540\n",
      "   50 |      71.1811\n",
      "  100 |      10.9642\n",
      "  150 |      10.2715\n",
      "  200 |      10.2393\n",
      "  250 |      10.2146\n",
      "  300 |      10.1899\n",
      "  350 |      10.1654\n",
      "  400 |      10.1408\n",
      "  450 |      10.1163\n",
      "  500 |      10.0919\n",
      "  550 |      10.0676\n",
      "  600 |      10.0434\n",
      "  650 |      10.0193\n",
      "  700 |       9.9952\n",
      "  750 |       9.9713\n",
      "  800 |       9.9475\n",
      "  850 |       9.9236\n",
      "  900 |       9.8998\n",
      "  950 |       9.8760\n",
      " 1000 |       9.8523\n"
     ]
    }
   ],
   "source": [
    "learning_rate = 0.000001     \n",
    "# Gradient descent\n",
    "for i in range(1000+1): # 1001번 반복한다.\n",
    "    \n",
    "    with tf.GradientTape() as tape: # GradientTape을 이용하여 Gradient descent를 구현한다.    \n",
    "        hypothesis = w1 * x1 +  w2 * x2 + w3 * x3 + b  # 가설 함수     \n",
    "        cost = tf.reduce_mean(tf.square(hypothesis - y)) # cost 함수         \n",
    "    w1_grad, w2_grad, w3_grad, b_grad = tape.gradient(cost, [w1, w2, w3, b]) # 4개의 변수에 대한 기울기 값을 구하고, w1_grad, w2_grad, w3_grad, b_grad에 할당한다. \n",
    "    \n",
    "    \n",
    "    w1.assign_sub(learning_rate * w1_grad) # 4개의 gradient 값을 w1, w2, w3에 업데이트를 하기 위해\n",
    "    w2.assign_sub(learning_rate * w2_grad) # assign_sub을 사용했다.\n",
    "    w3.assign_sub(learning_rate * w3_grad)\n",
    "    b.assign_sub(learning_rate * b_grad)\n",
    "\n",
    "    if i % 50 == 0: # 50번에 힌번씩 cost값을 출력한다.\n",
    "      print(\"{:5} | {:12.4f}\".format(i, cost.numpy()))"
   ]
  },
  {
   "cell_type": "code",
   "execution_count": 17,
   "metadata": {},
   "outputs": [
    {
     "name": "stdout",
     "output_type": "stream",
     "text": [
      "    0 | 108027.1641\n",
      "  100 |    19.9284\n",
      "  200 |     6.6064\n",
      "  300 |     6.5810\n",
      "  400 |     6.5573\n",
      "  500 |     6.5338\n",
      "  600 |     6.5104\n",
      "  700 |     6.4872\n",
      "  800 |     6.4639\n",
      "  900 |     6.4408\n",
      " 1000 |     6.4179\n",
      " 1100 |     6.3951\n",
      " 1200 |     6.3724\n",
      " 1300 |     6.3498\n",
      " 1400 |     6.3273\n",
      " 1500 |     6.3050\n",
      " 1600 |     6.2828\n",
      " 1700 |     6.2607\n",
      " 1800 |     6.2387\n",
      " 1900 |     6.2168\n",
      " 2000 |     6.1950\n"
     ]
    }
   ],
   "source": [
    "# Matrix\n",
    "data = np.array([\n",
    "    # X1,   X2,    X3,   y     # 5행 3열\n",
    "    [ 73.,  80.,  75., 152. ],\n",
    "    [ 93.,  88.,  93., 185. ],\n",
    "    [ 89.,  91.,  90., 180. ],\n",
    "    [ 96.,  98., 100., 196. ],\n",
    "    [ 73.,  66.,  70., 142. ]\n",
    "], dtype=np.float32)\n",
    " # (,) 기준으로 앞부분은 행, 뒷 부분은 열을 의미한다\n",
    "x = data[:, :-1] # 전체 행과 첫 열부터 마지막 열을 제외한것이다. x는 입력을 뜻한다. \n",
    "y = data[:, [-1]] # 전체 행과 마지막 열만 나타낸것이다. y 출력을 뜻하며, 레이블이라고도 부른다. \n",
    "\n",
    "w = tf.Variable(tf.random_normal([3, 1])) # x 값의 열이 3개이므로 행이 3개가 필요하고 출력값은 1이니깐 weight 값도 1이된다.\n",
    "b = tf.Variable(tf.random_normal([1])) # bias 값은 1이 된다.\n",
    "\n",
    "def predict(x): # 가설 함수는 \n",
    "    return tf.matmul(x, w) + b # tf.matmul 이용하여 x * w로 정의할 수 있다. b는 생략가능하다. \n",
    "n_epochs = 2000 # 1번 도는 것을 1 epochs라고 한다.  \n",
    "for i in range(n_epochs + 1): # Gradient descent 2001번 반복한다. \n",
    "    with tf.GradientTape() as tape:\n",
    "        cost = tf.reduce_mean((tf.square(predict(x) - y))) # cost 함수\n",
    "    w_grad, b_grad = tape.gradient(cost, [w, b])\n",
    "    # tape.gradient를 이용해 w, b의 경사도 값을 w_grad, b_grad에 반환한다.\n",
    "\n",
    "    \n",
    "    w.assign_sub(learning_rate * w_grad) # learining_rate은 gradient값을 얼마만큼 반영할지 결정한다.\n",
    "    b.assign_sub(learning_rate * b_grad) # learining_rate가 크면 많이 반영하며, 작으면 조금씩 변화가 일어난다.\n",
    "    \n",
    "    if i % 100 == 0:\n",
    "        print(\"{:5} | {:10.4f}\".format(i, cost.numpy()))\n",
    "        # 100번에 한번씩 cost 값을 출력해준다."
   ]
  },
  {
   "cell_type": "code",
   "execution_count": null,
   "metadata": {},
   "outputs": [],
   "source": []
  }
 ],
 "metadata": {
  "kernelspec": {
   "display_name": "Python 3",
   "language": "python",
   "name": "python3"
  },
  "language_info": {
   "codemirror_mode": {
    "name": "ipython",
    "version": 3
   },
   "file_extension": ".py",
   "mimetype": "text/x-python",
   "name": "python",
   "nbconvert_exporter": "python",
   "pygments_lexer": "ipython3",
   "version": "3.7.1"
  }
 },
 "nbformat": 4,
 "nbformat_minor": 2
}
